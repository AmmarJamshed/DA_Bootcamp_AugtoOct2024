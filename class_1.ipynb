{
  "nbformat": 4,
  "nbformat_minor": 0,
  "metadata": {
    "colab": {
      "provenance": [],
      "authorship_tag": "ABX9TyOa+j03SKWy08pWCYr9mNYX",
      "include_colab_link": true
    },
    "kernelspec": {
      "name": "python3",
      "display_name": "Python 3"
    },
    "language_info": {
      "name": "python"
    }
  },
  "cells": [
    {
      "cell_type": "markdown",
      "metadata": {
        "id": "view-in-github",
        "colab_type": "text"
      },
      "source": [
        "<a href=\"https://colab.research.google.com/github/AmmarJamshed/DA_Bootcamp_AugtoOct2024/blob/main/class_1.ipynb\" target=\"_parent\"><img src=\"https://colab.research.google.com/assets/colab-badge.svg\" alt=\"Open In Colab\"/></a>"
      ]
    },
    {
      "cell_type": "code",
      "execution_count": null,
      "metadata": {
        "colab": {
          "base_uri": "https://localhost:8080/"
        },
        "id": "kQFoYPLoOHUO",
        "outputId": "482c62fe-95ff-435a-e0f8-b522d04ab96f"
      },
      "outputs": [
        {
          "output_type": "stream",
          "name": "stdout",
          "text": [
            "Hello World\n"
          ]
        }
      ],
      "source": [
        "print(\"Hello World\")"
      ]
    },
    {
      "cell_type": "markdown",
      "source": [
        "# Python operators"
      ],
      "metadata": {
        "id": "sD_ViXp2S0vQ"
      }
    },
    {
      "cell_type": "code",
      "source": [
        "#- / *vjsrtg09shjwa0jr4p\n",
        "2 + 2"
      ],
      "metadata": {
        "colab": {
          "base_uri": "https://localhost:8080/",
          "height": 110
        },
        "id": "Lr1iwXQyS3mm",
        "outputId": "19985817-8590-4f22-b514-49bf468e9047"
      },
      "execution_count": null,
      "outputs": [
        {
          "output_type": "error",
          "ename": "SyntaxError",
          "evalue": "invalid syntax (<ipython-input-9-d1ba612ef26c>, line 1)",
          "traceback": [
            "\u001b[0;36m  File \u001b[0;32m\"<ipython-input-9-d1ba612ef26c>\"\u001b[0;36m, line \u001b[0;32m1\u001b[0m\n\u001b[0;31m    - / *vjsrtg09shjwa0jr4p\u001b[0m\n\u001b[0m      ^\u001b[0m\n\u001b[0;31mSyntaxError\u001b[0m\u001b[0;31m:\u001b[0m invalid syntax\n"
          ]
        }
      ]
    },
    {
      "cell_type": "code",
      "source": [
        "# subtraction\n",
        "2 - 2"
      ],
      "metadata": {
        "colab": {
          "base_uri": "https://localhost:8080/"
        },
        "id": "_GNOfyMMTBT7",
        "outputId": "21566616-b1ff-4300-eca5-eab4188ce6bd"
      },
      "execution_count": null,
      "outputs": [
        {
          "output_type": "execute_result",
          "data": {
            "text/plain": [
              "0"
            ]
          },
          "metadata": {},
          "execution_count": 10
        }
      ]
    },
    {
      "cell_type": "code",
      "source": [
        "# Multiplication\n",
        "2*2"
      ],
      "metadata": {
        "colab": {
          "base_uri": "https://localhost:8080/"
        },
        "id": "HFiyi9s9TzB9",
        "outputId": "361dc500-3dca-4dc7-a662-3187c3fefdef"
      },
      "execution_count": null,
      "outputs": [
        {
          "output_type": "execute_result",
          "data": {
            "text/plain": [
              "4"
            ]
          },
          "metadata": {},
          "execution_count": 11
        }
      ]
    },
    {
      "cell_type": "code",
      "source": [
        "# division\n",
        "2 / 2"
      ],
      "metadata": {
        "colab": {
          "base_uri": "https://localhost:8080/"
        },
        "id": "hnPNLBg9T2Xm",
        "outputId": "4a42583b-d4b8-45b3-ee42-cb21fafb25da"
      },
      "execution_count": null,
      "outputs": [
        {
          "output_type": "execute_result",
          "data": {
            "text/plain": [
              "1.0"
            ]
          },
          "metadata": {},
          "execution_count": 12
        }
      ]
    },
    {
      "cell_type": "code",
      "source": [
        "# Modulo\n",
        "2%100"
      ],
      "metadata": {
        "colab": {
          "base_uri": "https://localhost:8080/"
        },
        "id": "CQc0zX0YT5FU",
        "outputId": "9731416f-1333-4d44-d67a-a4677585639b"
      },
      "execution_count": null,
      "outputs": [
        {
          "output_type": "execute_result",
          "data": {
            "text/plain": [
              "2"
            ]
          },
          "metadata": {},
          "execution_count": 14
        }
      ]
    },
    {
      "cell_type": "code",
      "source": [
        "# 2% increase in a 100 dollars on a monthly basis for two years equates how much\n",
        "out = 100 * (1.1)**7\n",
        "print(out)"
      ],
      "metadata": {
        "colab": {
          "base_uri": "https://localhost:8080/"
        },
        "id": "Rxvk8_IVUhu6",
        "outputId": "bd0b94a1-b268-465a-fbef-7daacf1ae9de"
      },
      "execution_count": null,
      "outputs": [
        {
          "output_type": "stream",
          "name": "stdout",
          "text": [
            "194.87171000000012\n"
          ]
        }
      ]
    },
    {
      "cell_type": "code",
      "source": [
        "age = 25"
      ],
      "metadata": {
        "id": "cQiDdmb_VJiP"
      },
      "execution_count": null,
      "outputs": []
    },
    {
      "cell_type": "code",
      "source": [
        "print(age)"
      ],
      "metadata": {
        "colab": {
          "base_uri": "https://localhost:8080/"
        },
        "id": "F8oDeB58X2HQ",
        "outputId": "3c9c6fb1-be98-4617-9a74-6a16616c7f4e"
      },
      "execution_count": null,
      "outputs": [
        {
          "output_type": "stream",
          "name": "stdout",
          "text": [
            "25\n"
          ]
        }
      ]
    },
    {
      "cell_type": "code",
      "source": [
        "# types of vars\n",
        "string = \"Name\"\n",
        "Integer = 25\n",
        "Float = 25.5\n",
        "Boolean = True or False or None"
      ],
      "metadata": {
        "id": "Uzc2I-TfX4T8"
      },
      "execution_count": null,
      "outputs": []
    },
    {
      "cell_type": "code",
      "source": [
        "name = \"Ammar\"\n",
        "age = int(12.5)"
      ],
      "metadata": {
        "id": "ErMDEbvLcHGc"
      },
      "execution_count": null,
      "outputs": []
    },
    {
      "cell_type": "code",
      "source": [
        "type(age)"
      ],
      "metadata": {
        "colab": {
          "base_uri": "https://localhost:8080/"
        },
        "id": "IDnNY4IecRYQ",
        "outputId": "85bc7967-4b7a-4e23-a871-2f906ffeae5b"
      },
      "execution_count": null,
      "outputs": [
        {
          "output_type": "execute_result",
          "data": {
            "text/plain": [
              "int"
            ]
          },
          "metadata": {},
          "execution_count": 42
        }
      ]
    },
    {
      "cell_type": "code",
      "source": [
        "results = '12'\n",
        "saving = '30'\n",
        "print(\"I have achieved good $\" + str(results) + \" with good $\" + str(saving))"
      ],
      "metadata": {
        "colab": {
          "base_uri": "https://localhost:8080/"
        },
        "id": "G1M0nxeJcTTn",
        "outputId": "b691161b-4951-41ed-bd82-3a04a6143ebe"
      },
      "execution_count": null,
      "outputs": [
        {
          "output_type": "stream",
          "name": "stdout",
          "text": [
            "I have achieved good $12 with good $30\n"
          ]
        }
      ]
    },
    {
      "cell_type": "code",
      "source": [
        "age = 20\n",
        "height = 5.9\n",
        "print(\"My age is \" + str(age) + \" and my height is \" + str(height))"
      ],
      "metadata": {
        "colab": {
          "base_uri": "https://localhost:8080/"
        },
        "id": "FMViJJBkfeaQ",
        "outputId": "10285c38-56e9-47c4-aae8-4e437096c9a5"
      },
      "execution_count": null,
      "outputs": [
        {
          "output_type": "stream",
          "name": "stdout",
          "text": [
            "My age is 20 and my height is 5.9\n"
          ]
        }
      ]
    },
    {
      "cell_type": "code",
      "source": [
        "growth_mult = 1.1\n",
        "money = 100\n",
        "result = money * growth_mult**7\n",
        "print(result)"
      ],
      "metadata": {
        "id": "xruifjWGgjgY",
        "colab": {
          "base_uri": "https://localhost:8080/"
        },
        "outputId": "4ae3ec72-ce33-455e-fb9f-d3f616de82ed"
      },
      "execution_count": 1,
      "outputs": [
        {
          "output_type": "stream",
          "name": "stdout",
          "text": [
            "194.87171000000012\n"
          ]
        }
      ]
    },
    {
      "cell_type": "code",
      "source": [
        "desc = \"compound interest\""
      ],
      "metadata": {
        "id": "nJ_vI2M3Hnf6"
      },
      "execution_count": 2,
      "outputs": []
    },
    {
      "cell_type": "code",
      "source": [
        "print(desc)"
      ],
      "metadata": {
        "colab": {
          "base_uri": "https://localhost:8080/"
        },
        "id": "-8WC-AFRIQbo",
        "outputId": "371e2ab7-f196-4432-ce3f-1212ff82c003"
      },
      "execution_count": 3,
      "outputs": [
        {
          "output_type": "stream",
          "name": "stdout",
          "text": [
            "compound interest\n"
          ]
        }
      ]
    },
    {
      "cell_type": "code",
      "source": [
        "# print your name, age, height\n",
        "name = 'Ammar'\n",
        "age = 27\n",
        "height = 5.9\n",
        "print(\"My name is \" + name + \", I am \" + str(age) + \" years old and I am \" + str(height) + \" feet tall\")"
      ],
      "metadata": {
        "colab": {
          "base_uri": "https://localhost:8080/"
        },
        "id": "8dh3hnSqISWM",
        "outputId": "939e824d-32e9-46ef-d2ac-72145c862f42"
      },
      "execution_count": 4,
      "outputs": [
        {
          "output_type": "stream",
          "name": "stdout",
          "text": [
            "My name is Ammar, I am 27 years old and I am 5.9 feet tall\n"
          ]
        }
      ]
    },
    {
      "cell_type": "markdown",
      "source": [
        "# list"
      ],
      "metadata": {
        "id": "9XgG8QvPJPXN"
      }
    },
    {
      "cell_type": "code",
      "source": [
        "a = 'Ammar'\n",
        "b = 'male'\n",
        "c = '5.9'\n",
        "d = '27'\n",
        "new_list = [a,b,c,d]\n",
        "print(new_list)"
      ],
      "metadata": {
        "colab": {
          "base_uri": "https://localhost:8080/"
        },
        "id": "kp_aPNIuIzOw",
        "outputId": "f5fed6b8-bb20-4496-8abb-1953f2c981f5"
      },
      "execution_count": 7,
      "outputs": [
        {
          "output_type": "stream",
          "name": "stdout",
          "text": [
            "['Ammar', 'male', '5.9', '27']\n"
          ]
        }
      ]
    },
    {
      "cell_type": "code",
      "source": [
        "# 7 different ages of people\n",
        "ages = [12,56,87,32,11,90,12]\n",
        "print(ages)"
      ],
      "metadata": {
        "colab": {
          "base_uri": "https://localhost:8080/"
        },
        "id": "qiSOa6tEJsNE",
        "outputId": "f40005db-a8cb-4537-f102-86256821ac1a"
      },
      "execution_count": 6,
      "outputs": [
        {
          "output_type": "stream",
          "name": "stdout",
          "text": [
            "[12, 56, 87, 32, 11, 90, 12]\n"
          ]
        }
      ]
    },
    {
      "cell_type": "code",
      "source": [
        "# create a list with a city name, temp, size and wheter its a city or not\n",
        "cities = [['Khi', 'Sukk', 'mir'], ['lhr', 'fslb', 'mul'], ['pesh', 'tax', 'Abt']]\n",
        "print(cities)"
      ],
      "metadata": {
        "colab": {
          "base_uri": "https://localhost:8080/"
        },
        "id": "_ViDUAkWKqkY",
        "outputId": "b1878971-1215-4a22-c791-8c5c93c12e47"
      },
      "execution_count": 9,
      "outputs": [
        {
          "output_type": "stream",
          "name": "stdout",
          "text": [
            "[['Khi', 'Sukk', 'mir'], ['lhr', 'fslb', 'mul'], ['pesh', 'tax', 'Abt']]\n"
          ]
        }
      ]
    },
    {
      "cell_type": "code",
      "source": [
        "name = 'Ammar'\n",
        "print(name[1:3])"
      ],
      "metadata": {
        "colab": {
          "base_uri": "https://localhost:8080/"
        },
        "id": "mbxSZvL_MaF_",
        "outputId": "f24ecdeb-dffb-4416-a44d-ddddd0bba115"
      },
      "execution_count": 15,
      "outputs": [
        {
          "output_type": "stream",
          "name": "stdout",
          "text": [
            "mm\n"
          ]
        }
      ]
    },
    {
      "cell_type": "markdown",
      "source": [
        "# slicing and dicing"
      ],
      "metadata": {
        "id": "zDpZkVDrUUsy"
      }
    },
    {
      "cell_type": "code",
      "source": [
        "sent =  ['I' ,'am','lord' ,'Voldermort']\n",
        "# print Voldermort\n",
        "print(sent[1])"
      ],
      "metadata": {
        "colab": {
          "base_uri": "https://localhost:8080/"
        },
        "id": "XPf9IpxFP9au",
        "outputId": "c56b3e88-6b99-4172-e7af-732817e6b04d"
      },
      "execution_count": 33,
      "outputs": [
        {
          "output_type": "stream",
          "name": "stdout",
          "text": [
            "am\n"
          ]
        }
      ]
    },
    {
      "cell_type": "code",
      "source": [
        "del(sent[1])"
      ],
      "metadata": {
        "id": "g2hvGsorYV6o"
      },
      "execution_count": 34,
      "outputs": []
    },
    {
      "cell_type": "code",
      "source": [
        "sent"
      ],
      "metadata": {
        "colab": {
          "base_uri": "https://localhost:8080/"
        },
        "id": "Nw2c6E6kQVz3",
        "outputId": "0c6e54db-7ded-4470-ce66-3d0ae0a34f34"
      },
      "execution_count": 35,
      "outputs": [
        {
          "output_type": "execute_result",
          "data": {
            "text/plain": [
              "['I', 'lord', 'Voldermort']"
            ]
          },
          "metadata": {},
          "execution_count": 35
        }
      ]
    },
    {
      "cell_type": "code",
      "source": [
        "# concatenation\n",
        "print(var1 + var2)"
      ],
      "metadata": {
        "colab": {
          "base_uri": "https://localhost:8080/"
        },
        "id": "yuM8MsXQTrZr",
        "outputId": "c2b90a38-a64e-4b0b-93ba-bb175855ead4"
      },
      "execution_count": 22,
      "outputs": [
        {
          "output_type": "stream",
          "name": "stdout",
          "text": [
            "I am lord Voldermort\n"
          ]
        }
      ]
    },
    {
      "cell_type": "code",
      "source": [
        "print(sent[-3:])"
      ],
      "metadata": {
        "colab": {
          "base_uri": "https://localhost:8080/"
        },
        "id": "k1qz1ziLT1VZ",
        "outputId": "85d49e0d-2042-4349-95f5-1976e4706c16"
      },
      "execution_count": 26,
      "outputs": [
        {
          "output_type": "stream",
          "name": "stdout",
          "text": [
            "ort\n"
          ]
        }
      ]
    },
    {
      "cell_type": "code",
      "source": [
        "sent[10:] = list(\"Ammar\")\n",
        "sent = ''.join(sent)"
      ],
      "metadata": {
        "colab": {
          "base_uri": "https://localhost:8080/",
          "height": 159
        },
        "id": "_u7-dgoHUJE9",
        "outputId": "e8cd52cd-6bf0-4c2b-c669-0312b4aa8b5e"
      },
      "execution_count": 30,
      "outputs": [
        {
          "output_type": "error",
          "ename": "TypeError",
          "evalue": "'str' object does not support item assignment",
          "traceback": [
            "\u001b[0;31m---------------------------------------------------------------------------\u001b[0m",
            "\u001b[0;31mTypeError\u001b[0m                                 Traceback (most recent call last)",
            "\u001b[0;32m<ipython-input-30-b6eb7148b882>\u001b[0m in \u001b[0;36m<cell line: 1>\u001b[0;34m()\u001b[0m\n\u001b[0;32m----> 1\u001b[0;31m \u001b[0msent\u001b[0m\u001b[0;34m[\u001b[0m\u001b[0;36m10\u001b[0m\u001b[0;34m:\u001b[0m\u001b[0;34m]\u001b[0m \u001b[0;34m=\u001b[0m \u001b[0mlist\u001b[0m\u001b[0;34m(\u001b[0m\u001b[0;34m\"Ammar\"\u001b[0m\u001b[0;34m)\u001b[0m\u001b[0;34m\u001b[0m\u001b[0;34m\u001b[0m\u001b[0m\n\u001b[0m\u001b[1;32m      2\u001b[0m \u001b[0msent\u001b[0m \u001b[0;34m=\u001b[0m \u001b[0;34m''\u001b[0m\u001b[0;34m.\u001b[0m\u001b[0mjoin\u001b[0m\u001b[0;34m(\u001b[0m\u001b[0msent\u001b[0m\u001b[0;34m)\u001b[0m\u001b[0;34m\u001b[0m\u001b[0;34m\u001b[0m\u001b[0m\n",
            "\u001b[0;31mTypeError\u001b[0m: 'str' object does not support item assignment"
          ]
        }
      ]
    },
    {
      "cell_type": "code",
      "source": [
        "# create a list of 3 cities in pak, ind and bang\n"
      ],
      "metadata": {
        "id": "86nDNyveUhdn"
      },
      "execution_count": null,
      "outputs": []
    }
  ]
}